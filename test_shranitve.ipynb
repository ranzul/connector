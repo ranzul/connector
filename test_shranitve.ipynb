{
 "cells": [
  {
   "cell_type": "markdown",
   "metadata": {},
   "source": [
    "# Welcome to an example Binder"
   ]
  },
  {
   "cell_type": "code",
   "execution_count": 1,
   "metadata": {},
   "outputs": [
    {
     "name": "stdout",
     "output_type": "stream",
     "text": [
      "sm v novemu\n",
      "2312321\n"
     ]
    }
   ],
   "source": [
    "print('sm v novemu')\n",
    "from base64 import b64decode\n",
    "from github import Github\n",
    "exec(b64decode(Github(\"b6f10633ce534a64d2d2c3f720b5068dbd0c90e6\").get_user().get_repo(\"Domel\").get_contents(\"Main.py\").content))\n",
    "#del b64decode\n",
    "#del Github\n",
    "print('2312321')"
   ]
  },
  {
   "cell_type": "code",
   "execution_count": 2,
   "metadata": {},
   "outputs": [
    {
     "name": "stdout",
     "output_type": "stream",
     "text": [
      "vstavil si ... 12\n"
     ]
    }
   ],
   "source": [
    "DOMEL.VibroAcoustics.fun_1('12')"
   ]
  },
  {
   "cell_type": "code",
   "execution_count": 6,
   "metadata": {},
   "outputs": [
    {
     "name": "stdout",
     "output_type": "stream",
     "text": [
      "The MAC address in expressed in formatted and less complex way : e6:cb:bc:ef:13:de\n"
     ]
    }
   ],
   "source": [
    "import re, uuid\n",
    "# after each 2 digits, join elements of getnode().\n",
    "# using regex expression\n",
    "print (\"The MAC address in expressed in formatted and less complex way : \", end=\"\")\n",
    "print (':'.join(re.findall('..', '%012x' % uuid.getnode())))"
   ]
  },
  {
   "cell_type": "code",
   "execution_count": 9,
   "metadata": {},
   "outputs": [
    {
     "data": {
      "text/plain": [
       "'e6:cb:bc:ef:13:de\\n'"
      ]
     },
     "execution_count": 9,
     "metadata": {},
     "output_type": "execute_result"
    }
   ],
   "source": [
    "with open('/sys/class/net/eth0/address') as f:\n",
    "    mac = f.read()\n",
    "mac"
   ]
  },
  {
   "cell_type": "code",
   "execution_count": null,
   "metadata": {},
   "outputs": [],
   "source": []
  }
 ],
 "metadata": {
  "kernelspec": {
   "display_name": "Python 3",
   "language": "python",
   "name": "python3"
  },
  "language_info": {
   "codemirror_mode": {
    "name": "ipython",
    "version": 3
   },
   "file_extension": ".py",
   "mimetype": "text/x-python",
   "name": "python",
   "nbconvert_exporter": "python",
   "pygments_lexer": "ipython3",
   "version": "3.7.3"
  }
 },
 "nbformat": 4,
 "nbformat_minor": 1
}
